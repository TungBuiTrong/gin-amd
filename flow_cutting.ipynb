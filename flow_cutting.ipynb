{
 "cells": [
  {
   "cell_type": "code",
   "execution_count": null,
   "id": "4bddd775",
   "metadata": {},
   "outputs": [],
   "source": [
    "import glob\n",
    "import pandas as pd\n",
    "import os\n",
    "\n",
    "input_root = r\"C:\\Desktop\\CICandMal17_new\\Data\"\n",
    "output_root = r\"C:\\Desktop\\CICandMal17_new\\Output\"\n",
    "csv_files = glob.glob(os.path.join(input_root, \"*\", \"*\", \"*.csv\"))\n",
    "\n",
    "\n",
    "def process_file(file_path, block_size=512, stride=16):\n",
    "    df = pd.read_csv(file_path)\n",
    "    blocks = []\n",
    "    start = 0\n",
    "    while start + block_size <= len(df):\n",
    "        block = df.iloc[start : start + block_size].copy()\n",
    "        blocks.append(block)\n",
    "        start += stride\n",
    "    return blocks\n",
    "\n",
    "\n",
    "for file_path in csv_files:\n",
    "    relative_path = os.path.relpath(file_path, input_root)\n",
    "    relative_dir = os.path.dirname(relative_path)\n",
    "    filename = os.path.splitext(os.path.basename(file_path))[0]\n",
    "    output_dir = os.path.join(output_root, relative_dir)\n",
    "    os.makedirs(output_dir, exist_ok=True)\n",
    "\n",
    "    blocks = process_file(file_path)\n",
    "    for i, block in enumerate(blocks):\n",
    "        output_file = os.path.join(output_dir, f\"{filename}_block_{i}.csv\")\n",
    "        block.to_csv(output_file, index=False)\n",
    "\n",
    "print(\"Done.\")"
   ]
  }
 ],
 "metadata": {
  "kernelspec": {
   "display_name": "base",
   "language": "python",
   "name": "python3"
  },
  "language_info": {
   "codemirror_mode": {
    "name": "ipython",
    "version": 3
   },
   "file_extension": ".py",
   "mimetype": "text/x-python",
   "name": "python",
   "nbconvert_exporter": "python",
   "pygments_lexer": "ipython3",
   "version": "3.12.3"
  }
 },
 "nbformat": 4,
 "nbformat_minor": 5
}
